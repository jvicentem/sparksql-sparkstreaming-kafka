{
 "cells": [
  {
   "cell_type": "markdown",
   "metadata": {},
   "source": [
    "# SparkSQL assignment with Python\n",
    "## José Vicente Mellado"
   ]
  },
  {
   "cell_type": "markdown",
   "metadata": {},
   "source": [
    "### Reading file"
   ]
  },
  {
   "cell_type": "code",
   "execution_count": null,
   "metadata": {
    "collapsed": true
   },
   "outputs": [],
   "source": [
    "## No need to run these lines, everything has been configured in spark-env.sh\n",
    "\n",
    "#import findspark\n",
    "#findspark.init('/spark_dir')\n",
    "\n",
    "##Configuramos el sparksession\n",
    "#import pyspark\n",
    "#from pyspark.sql import SparkSession\n",
    "\n",
    "#spark = (SparkSession.builder\n",
    "#         .master('local[*]')\n",
    "#         .config('spark.driver.cores', 1)\n",
    "#         .appName('estudio_spark')\n",
    "#         .getOrCreate()\n",
    "#        )\n",
    "##obtenemos el sparkcontext a partir del sparksession\n",
    "#sc = spark.sparkContext"
   ]
  },
  {
   "cell_type": "code",
   "execution_count": 12,
   "metadata": {
    "collapsed": false
   },
   "outputs": [],
   "source": [
    "from pyspark.sql.types import *\n",
    "\n",
    "st = StructType([\n",
    "        StructField('ID', LongType(), True),\n",
    "        StructField('PARENT-SYS-ID', StringType(), True),\n",
    "        StructField('Source', StringType(), True),\n",
    "        StructField('Mentions', StringType(), True),\n",
    "        StructField('Target', StringType(), True),\n",
    "        StructField('NAME Source', StringType(), True),\n",
    "        StructField('BODY', StringType(), True),\n",
    "        StructField('PUBDATE', TimestampType(), True),\n",
    "        StructField('URLs coma separated', StringType(), True),\n",
    "        StructField('Type TW-RT-MT', StringType(), True),\n",
    "        StructField('LINK', StringType(), True),\n",
    "        StructField('n1 Link', ByteType(), True),\n",
    "        StructField('n1 Picture', ByteType(), True),\n",
    "        StructField('PERSONAL-WEBSITE', StringType(), True),\n",
    "        StructField('COUNTRY', StringType(), True),\n",
    "        StructField('ALL-NICK-ACTIVITY-EVER', LongType(), True),\n",
    "        StructField('NICK-FOLLOWERS', LongType(), True),\n",
    "        StructField('FRIENDS-FOLLOWING-AUDIENCE', LongType(), True),\n",
    "        StructField('LOCATION', StringType(), True)\n",
    "    ]\n",
    ")\n",
    "\n",
    "#https://spark.apache.org/docs/2.0.0-preview/api/python/pyspark.sql.html#pyspark.sql.DataFrameReader\n",
    "df = spark.read.csv('tweets.csv', \n",
    "                    header=True, \n",
    "                    sep='\\t',\n",
    "                    schema=st,\n",
    "                    timestampFormat='dd/MM/yyyy HH:mm',\n",
    "                    mode='PERMISSIVE')"
   ]
  },
  {
   "cell_type": "markdown",
   "metadata": {},
   "source": [
    "### Unique mentions"
   ]
  },
  {
   "cell_type": "code",
   "execution_count": 13,
   "metadata": {
    "collapsed": false
   },
   "outputs": [],
   "source": [
    "from pyspark.sql.functions import udf\n",
    "\n",
    "def list_to_string(l):\n",
    "    if l != None:\n",
    "        return str(l).replace('[','').replace(']','').replace('\\'','').replace(' ', '')\n",
    "\n",
    "def remove_duplicates(list_string):\n",
    "    if list_string != None:\n",
    "        return list(filter(lambda x: len(x)>0, list(set(list_string.split(',')))))\n",
    "\n",
    "only_uniques = udf(lambda row: list_to_string(remove_duplicates( row )) if row != None else None, StringType())\n",
    "\n",
    "\n",
    "df = df.withColumn('Mentions', \n",
    "                    only_uniques(df['Mentions'])\n",
    "                  )"
   ]
  },
  {
   "cell_type": "markdown",
   "metadata": {},
   "source": [
    "### a) Contabilizar el número total de menciones a los pilotos Marc Márquez, Valentino Rossi y Dani Pedrosa.\n",
    "\n"
   ]
  },
  {
   "cell_type": "code",
   "execution_count": 14,
   "metadata": {
    "collapsed": false
   },
   "outputs": [
    {
     "name": "stdout",
     "output_type": "stream",
     "text": [
      "+--------------+-----+\n",
      "|      Accounts|count|\n",
      "+--------------+-----+\n",
      "| marcmarquez93|58027|\n",
      "|26_danipedrosa|12341|\n",
      "|  valeyellow46|61103|\n",
      "+--------------+-----+\n",
      "\n"
     ]
    }
   ],
   "source": [
    "from pyspark.sql.functions import explode, split\n",
    "\n",
    "(df.select('Mentions')\n",
    " .filter(df['Mentions'].like('%marcmarquez93%') | \n",
    "         df['Mentions'].like('%valeyellow46%') | \n",
    "         df['Mentions'].like('%26_danipedrosa%'))\n",
    " .select(explode((split('Mentions', ','))).alias('Accounts'))\n",
    " .filter('''Accounts = 'marcmarquez93' or \n",
    "            Accounts = 'valeyellow46' or \n",
    "            Accounts = '26_danipedrosa'\n",
    "         ''')\n",
    " .groupBy('Accounts')\n",
    " .count()\n",
    " .show()\n",
    ")\n"
   ]
  },
  {
   "cell_type": "markdown",
   "metadata": {},
   "source": [
    "### b) Contabilizar los 5 países que más tweets han publicado (considerando los tweets que contengan dicha información).\n"
   ]
  },
  {
   "cell_type": "code",
   "execution_count": 15,
   "metadata": {
    "collapsed": false
   },
   "outputs": [
    {
     "data": {
      "text/plain": [
       "[Row(COUNTRY='es', count=172577),\n",
       " Row(COUNTRY='us', count=12722),\n",
       " Row(COUNTRY='gb', count=12588),\n",
       " Row(COUNTRY='id', count=8725),\n",
       " Row(COUNTRY='it', count=1843)]"
      ]
     },
     "execution_count": 15,
     "metadata": {},
     "output_type": "execute_result"
    }
   ],
   "source": [
    "(df.select('COUNTRY')\n",
    " .filter(df['COUNTRY'] != 'not public')\n",
    " .groupBy('COUNTRY')\n",
    " .count()\n",
    " .orderBy('count', ascending=False)\n",
    " .take(5)\n",
    ")"
   ]
  },
  {
   "cell_type": "markdown",
   "metadata": {},
   "source": [
    "### c) Contabilizar los 3 hashtags más utilizados (que aparezcan el mayor número de veces) en el cuerpo de los tweets (campo \"body\").\n"
   ]
  },
  {
   "cell_type": "code",
   "execution_count": 16,
   "metadata": {
    "collapsed": false
   },
   "outputs": [
    {
     "data": {
      "text/plain": [
       "[Row(Words='#motogp', count=51959),\n",
       " Row(Words='#qatar', count=9976),\n",
       " Row(Words='#moto3', count=5797)]"
      ]
     },
     "execution_count": 16,
     "metadata": {},
     "output_type": "execute_result"
    }
   ],
   "source": [
    "(df.select('BODY')\n",
    " .filter(df['BODY'].like('%#%'))\n",
    " .select(explode((split('BODY', ' '))).alias('Words'))\n",
    " .filter(\"Words like '#%'\")\n",
    " .groupBy('Words')\n",
    " .count()\n",
    " .orderBy('count', ascending=False)\n",
    " .take(3)\n",
    ")"
   ]
  },
  {
   "cell_type": "markdown",
   "metadata": {},
   "source": [
    "## Spark Streaming"
   ]
  },
  {
   "cell_type": "markdown",
   "metadata": {},
   "source": [
    "# Please run first the following lines: \n",
    "\n",
    "\n",
    "\n",
    "cd ./kafka_2.11-0.10.2.0/\n",
    "./bin/zookeeper-server-start.sh ./config/zookeeper.properties\n",
    "\n",
    "./bin/kafka-server-start.sh ./config/server.properties\n",
    "\n",
    "cd ./sparksql-sparkstreaming-kafka\n",
    "\n",
    "python ./timestamp_kafka_producer.py Quatar_GP_2014 ./tweets.csv \n",
    "\n",
    "### Note: tweets.csv is sorted by date"
   ]
  },
  {
   "cell_type": "markdown",
   "metadata": {},
   "source": [
    "### The following lines were provided by the teachers"
   ]
  },
  {
   "cell_type": "code",
   "execution_count": 84,
   "metadata": {
    "collapsed": true
   },
   "outputs": [],
   "source": [
    "from __future__ import print_function\n",
    "from pyspark.streaming import StreamingContext\n",
    "from pyspark.streaming.kafka import KafkaUtils\n",
    "from operator import add\n",
    "from operator import sub\n",
    "\n",
    "ssc = StreamingContext(sc, 5) # 5 seconds\n",
    "\n",
    "kafkaBrokerIPPort = \"127.0.0.1:9092\"\n",
    "\n",
    "import kafka\n",
    "\n",
    "class KafkaProducerWrapper(object):\n",
    "  producer = None\n",
    "  @staticmethod\n",
    "  def getProducer(brokerList):\n",
    "    if KafkaProducerWrapper.producer != None:\n",
    "      return KafkaProducerWrapper.producer\n",
    "    else:\n",
    "      KafkaProducerWrapper.producer = kafka.KafkaProducer(bootstrap_servers=brokerList, key_serializer=str.encode, value_serializer=str.encode)\n",
    "      return KafkaProducerWrapper.producer\n",
    " \n",
    "def sendMetrics(itr):\n",
    "  prod = KafkaProducerWrapper.getProducer([kafkaBrokerIPPort])\n",
    "  for m in itr:\n",
    "    prod.send(\"metrics\", key=m[0], value=m[0]+\",\"+str(m[1]))\n",
    "  prod.flush()"
   ]
  },
  {
   "cell_type": "code",
   "execution_count": 85,
   "metadata": {
    "collapsed": false
   },
   "outputs": [],
   "source": [
    "import ujson\n",
    "\n",
    "topic_name = 'Quatar_GP_2014'\n",
    "\n",
    "kafkaParams = {\"metadata.broker.list\": kafkaBrokerIPPort}\n",
    "stream = KafkaUtils.createDirectStream(ssc, [topic_name], kafkaParams)\n",
    "stream = stream.map(lambda o: ujson.loads(o[1]))"
   ]
  },
  {
   "cell_type": "markdown",
   "metadata": {},
   "source": [
    "### a) Calcular el número total de menciones recibidas por cada cuenta de usuario durante el intervalo de 5 segundos.\n"
   ]
  },
  {
   "cell_type": "code",
   "execution_count": 86,
   "metadata": {
    "collapsed": false
   },
   "outputs": [],
   "source": [
    "ssc.checkpoint(\"checkpoint\")\n",
    "\n",
    "counts = (stream.flatMap(lambda line: list(filter(lambda x: len(x)>0,line['Mentions'].split(','))))\n",
    "                .map(lambda user: (user, 1)) \n",
    "                .reduceByKey(lambda a, b: a + b))\n",
    "\n",
    "counts.pprint()\n",
    "\n",
    "# In case we wanted to send the result to another Kafka queue\n",
    "#counts.foreachRDD(lambda rdd: rdd.foreachPartition(sendMetrics))"
   ]
  },
  {
   "cell_type": "code",
   "execution_count": 87,
   "metadata": {
    "collapsed": false,
    "scrolled": true
   },
   "outputs": [
    {
     "name": "stdout",
     "output_type": "stream",
     "text": [
      "-------------------------------------------\n",
      "Time: 2017-06-15 00:46:00\n",
      "-------------------------------------------\n",
      "('gigisoldano', 23)\n",
      "('tinofoto', 15)\n",
      "('valeyellow46', 38)\n",
      "\n",
      "-------------------------------------------\n",
      "Time: 2017-06-15 00:46:05\n",
      "-------------------------------------------\n",
      "('repsol_media', 1)\n",
      "('motogp', 2)\n",
      "('gigisoldano', 9)\n",
      "('oscarharotasend', 2)\n",
      "('motoci_romero', 1)\n",
      "('tinofoto', 2)\n",
      "('marcmarquez93', 3)\n",
      "('laurenkvickers', 1)\n",
      "('anitadelrioj', 1)\n",
      "('calloalbanese', 13)\n",
      "...\n",
      "\n",
      "-------------------------------------------\n",
      "Time: 2017-06-15 00:46:10\n",
      "-------------------------------------------\n",
      "('26_danipedrosa', 2)\n",
      "('motogp', 1)\n",
      "('gigisoldano', 1)\n",
      "('box_repsol', 1)\n",
      "('jessansan', 1)\n",
      "('bennetts_bike', 1)\n",
      "('ellen_briggs', 1)\n",
      "('btsport', 1)\n",
      "('marcmarquez93', 14)\n",
      "('blancacristina4', 1)\n",
      "...\n",
      "\n",
      "-------------------------------------------\n",
      "Time: 2017-06-15 00:46:15\n",
      "-------------------------------------------\n",
      "('telecincoes', 1)\n",
      "('gigisoldano', 5)\n",
      "('oscarharotasend', 2)\n",
      "('texastornado5', 1)\n",
      "('tinofoto', 17)\n",
      "('mediasetmotogp', 1)\n",
      "('reutersespana', 1)\n",
      "('ginorea', 1)\n",
      "('valeyellow46', 22)\n",
      "('marcmarquez93-lorenzo99', 1)\n",
      "...\n",
      "\n",
      "-------------------------------------------\n",
      "Time: 2017-06-15 00:46:20\n",
      "-------------------------------------------\n",
      "('gigisoldano', 22)\n",
      "('valeyellow46', 33)\n",
      "('calloalbanese', 10)\n",
      "\n",
      "-------------------------------------------\n",
      "Time: 2017-06-15 00:46:25\n",
      "-------------------------------------------\n",
      "('26_danipedrosa', 1)\n",
      "('box_repsol', 1)\n",
      "('gigisoldano', 4)\n",
      "('oscarharotasend', 1)\n",
      "('motogp', 1)\n",
      "('barryburchatt', 1)\n",
      "('redghostonline', 1)\n",
      "('tinofoto', 1)\n",
      "('chopard', 1)\n",
      "('mobil1_gtr', 1)\n",
      "...\n",
      "\n",
      "-------------------------------------------\n",
      "Time: 2017-06-15 00:46:30\n",
      "-------------------------------------------\n",
      "('btsportmotogp', 1)\n",
      "('febbre46', 1)\n",
      "('motogp', 1)\n",
      "('motocuatro', 1)\n",
      "('danidev_97', 1)\n",
      "('reddingpower', 1)\n",
      "('tinofoto', 8)\n",
      "('mediasetmotogp', 3)\n",
      "('marcmarquez93', 12)\n",
      "('kryskayella', 1)\n",
      "...\n",
      "\n",
      "-------------------------------------------\n",
      "Time: 2017-06-15 00:46:35\n",
      "-------------------------------------------\n",
      "('gigisoldano', 28)\n",
      "('tinofoto', 2)\n",
      "('valeyellow46', 36)\n",
      "('calloalbanese', 6)\n",
      "\n",
      "-------------------------------------------\n",
      "Time: 2017-06-15 00:46:40\n",
      "-------------------------------------------\n",
      "('26_danipedrosa', 1)\n",
      "('motogp', 1)\n",
      "('bradleysmith38', 1)\n",
      "('lucywiryono', 1)\n",
      "('gigisoldano', 2)\n",
      "('oscarharotasend', 2)\n",
      "('reddingpower', 1)\n",
      "('tinofoto', 2)\n",
      "('marcmarquez93', 1)\n",
      "('mediasetmotogp', 1)\n",
      "...\n",
      "\n",
      "-------------------------------------------\n",
      "Time: 2017-06-15 00:46:45\n",
      "-------------------------------------------\n",
      "('26_danipedrosa', 1)\n",
      "('cfdaniyjesuslvk', 1)\n",
      "('birtymotogp', 1)\n",
      "('mediasetmotogp', 1)\n",
      "('_jesus_om', 1)\n",
      "('laurenkvickers', 1)\n",
      "('marcmarquez93', 21)\n",
      "('neilhodgson100', 1)\n",
      "('adamchildchad', 1)\n",
      "('alo_oficial', 1)\n",
      "...\n",
      "\n",
      "-------------------------------------------\n",
      "Time: 2017-06-15 00:46:50\n",
      "-------------------------------------------\n",
      "('gigisoldano', 19)\n",
      "('patoguapera23', 1)\n",
      "('tinofoto', 14)\n",
      "('valeyellow46', 33)\n",
      "('roguezlau', 1)\n",
      "\n",
      "-------------------------------------------\n",
      "Time: 2017-06-15 00:46:55\n",
      "-------------------------------------------\n",
      "('26_danipedrosa', 1)\n",
      "('gigisoldano', 7)\n",
      "('bradleysmith38', 2)\n",
      "('trans7', 1)\n",
      "('birtymotogp', 1)\n",
      "('texastornado5', 2)\n",
      "('tinofoto', 1)\n",
      "('lorenzo99', 2)\n",
      "('yamahaindonesia', 2)\n",
      "('nicoabad', 1)\n",
      "...\n",
      "\n",
      "-------------------------------------------\n",
      "Time: 2017-06-15 00:47:00\n",
      "-------------------------------------------\n",
      "('26_danipedrosa', 2)\n",
      "('brigithcindy', 1)\n",
      "('gigisoldano', 7)\n",
      "('jl99land', 1)\n",
      "('cfdaniyjesuslvk', 1)\n",
      "('ismaferrer_atm', 1)\n",
      "('marcmarquez93', 1)\n",
      "('iangilpin', 1)\n",
      "('_jesus_om', 1)\n",
      "('lorenzo99', 2)\n",
      "...\n",
      "\n",
      "-------------------------------------------\n",
      "Time: 2017-06-15 00:47:05\n",
      "-------------------------------------------\n",
      "('scottrea46', 1)\n",
      "('btsportmotogp', 1)\n",
      "('nachogarrido7', 1)\n",
      "('oscarharotasend', 2)\n",
      "('motogp', 3)\n",
      "('keithhuewen', 1)\n",
      "('mamenyellow46', 1)\n",
      "('mobil1_gtr', 2)\n",
      "('mediasetmotogp', 1)\n",
      "('marcmarquez93', 13)\n",
      "...\n",
      "\n",
      "-------------------------------------------\n",
      "Time: 2017-06-15 00:47:10\n",
      "-------------------------------------------\n",
      "('gigisoldano', 17)\n",
      "('tinofoto', 4)\n",
      "('valeyellow46', 30)\n",
      "('vavel_motor', 1)\n",
      "('calloalbanese', 8)\n",
      "('cuna_campeones', 1)\n",
      "('circuitvalencia', 1)\n",
      "\n",
      "-------------------------------------------\n",
      "Time: 2017-06-15 00:47:15\n",
      "-------------------------------------------\n",
      "('btsportmotogp', 1)\n",
      "('26_danipedrosa', 1)\n",
      "('bradleysmith38', 1)\n",
      "('darre5', 1)\n",
      "('gigisoldano', 2)\n",
      "('movistacr_motogp', 1)\n",
      "('box_repsol', 1)\n",
      "('reddingpower', 2)\n",
      "('mediasetmotogp', 2)\n",
      "('marcmarquez93', 6)\n",
      "...\n",
      "\n",
      "-------------------------------------------\n",
      "Time: 2017-06-15 00:47:20\n",
      "-------------------------------------------\n",
      "('motogp', 1)\n",
      "('gigisoldano', 16)\n",
      "('tinofoto', 10)\n",
      "('probike12', 1)\n",
      "('valeyellow46', 26)\n",
      "('alo_oficial', 1)\n",
      "('pilutudela', 1)\n",
      "('ana_99isabel', 1)\n",
      "('movistar_motogp', 1)\n",
      "\n",
      "-------------------------------------------\n",
      "Time: 2017-06-15 00:47:25\n",
      "-------------------------------------------\n",
      "('motogp', 1)\n",
      "('gigisoldano', 2)\n",
      "('keithhuewen', 1)\n",
      "('99dejavu_sno', 1)\n",
      "('andreadovizioso', 1)\n",
      "('yamahamotogp', 1)\n",
      "('marcmarquez93', 1)\n",
      "('lorenzo99', 3)\n",
      "('tinofoto', 5)\n",
      "('porscheretail', 1)\n",
      "...\n",
      "\n"
     ]
    }
   ],
   "source": [
    "ssc.start()"
   ]
  },
  {
   "cell_type": "code",
   "execution_count": 89,
   "metadata": {
    "collapsed": false
   },
   "outputs": [],
   "source": [
    "ssc.stop(False)"
   ]
  }
 ],
 "metadata": {
  "anaconda-cloud": {},
  "kernelspec": {
   "display_name": "Python [intro]",
   "language": "python",
   "name": "Python [intro]"
  },
  "language_info": {
   "codemirror_mode": {
    "name": "ipython",
    "version": 3
   },
   "file_extension": ".py",
   "mimetype": "text/x-python",
   "name": "python",
   "nbconvert_exporter": "python",
   "pygments_lexer": "ipython3",
   "version": "3.5.2"
  }
 },
 "nbformat": 4,
 "nbformat_minor": 0
}
