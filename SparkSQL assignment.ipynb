{
 "cells": [
  {
   "cell_type": "markdown",
   "metadata": {},
   "source": [
    "# SparkSQL assignment with Python\n",
    "## José Vicente Mellado"
   ]
  },
  {
   "cell_type": "markdown",
   "metadata": {},
   "source": [
    "### Reading file"
   ]
  },
  {
   "cell_type": "code",
   "execution_count": null,
   "metadata": {
    "collapsed": true
   },
   "outputs": [],
   "source": [
    "## No need to run these lines, everything has been configured in spark-env.sh\n",
    "\n",
    "#import findspark\n",
    "#findspark.init('/spark_dir')\n",
    "\n",
    "##Configuramos el sparksession\n",
    "#import pyspark\n",
    "#from pyspark.sql import SparkSession\n",
    "\n",
    "#spark = (SparkSession.builder\n",
    "#         .master('local[*]')\n",
    "#         .config('spark.driver.cores', 1)\n",
    "#         .appName('estudio_spark')\n",
    "#         .getOrCreate()\n",
    "#        )\n",
    "##obtenemos el sparkcontext a partir del sparksession\n",
    "#sc = spark.sparkContext"
   ]
  },
  {
   "cell_type": "code",
   "execution_count": 1,
   "metadata": {
    "collapsed": true
   },
   "outputs": [],
   "source": [
    "from pyspark.sql.types import *\n",
    "\n",
    "st = StructType([\n",
    "        StructField('ID', LongType(), True),\n",
    "        StructField('PARENT-SYS-ID', LongType(), True),\n",
    "        StructField('Source', StringType(), True),\n",
    "        StructField('Mentions', StringType(), True),\n",
    "        StructField('Target', StringType(), True),\n",
    "        StructField('NAME Source', StringType(), True),\n",
    "        StructField('BODY', StringType(), True),\n",
    "        StructField('PUBDATE', TimestampType(), True),\n",
    "        StructField('URLs coma separated', StringType(), True),\n",
    "        StructField('Type TW-RT-MT', StringType(), True),\n",
    "        StructField('LINK', StringType(), True),\n",
    "        StructField('n1 Link', ByteType(), True),\n",
    "        StructField('n1 Picture', ByteType(), True),\n",
    "        StructField('PERSONAL-WEBSITE', StringType(), True),\n",
    "        StructField('COUNTRY', StringType(), True),\n",
    "        StructField('ALL-NICK-ACTIVITY-EVER', LongType(), True),\n",
    "        StructField('NICK-FOLLOWERS', LongType(), True),\n",
    "        StructField('FRIENDS-FOLLOWING-AUDIENCE', LongType(), True),\n",
    "        StructField('LOCATION', StringType(), True)\n",
    "    ]\n",
    ")\n",
    "\n",
    "#https://spark.apache.org/docs/2.0.0-preview/api/python/pyspark.sql.html#pyspark.sql.DataFrameReader\n",
    "df = spark.read.csv('tweets.csv', \n",
    "                    header=True, \n",
    "                    schema=st,\n",
    "                    timestampFormat='dd/MM/yyyy HH:mm',\n",
    "                    mode='PERMISSIVE')"
   ]
  },
  {
   "cell_type": "markdown",
   "metadata": {},
   "source": [
    "### a) Contabilizar el número total de menciones a los pilotos Marc Márquez, Valentino Rossi y Dani Pedrosa.\n",
    "\n"
   ]
  },
  {
   "cell_type": "code",
   "execution_count": 40,
   "metadata": {
    "collapsed": false
   },
   "outputs": [
    {
     "name": "stdout",
     "output_type": "stream",
     "text": [
      "+--------------+-----+\n",
      "|      Accounts|count|\n",
      "+--------------+-----+\n",
      "| marcmarquez93|58132|\n",
      "|26_danipedrosa|12346|\n",
      "|  valeyellow46|61226|\n",
      "+--------------+-----+\n",
      "\n"
     ]
    }
   ],
   "source": [
    "from pyspark.sql.functions import split, explode\n",
    "\n",
    "(df.select('Mentions')\n",
    " .filter(df['Mentions'].like('%marcmarquez93%') | \n",
    "         df['Mentions'].like('%valeyellow46%') | \n",
    "         df['Mentions'].like('%26_danipedrosa%'))\n",
    " .select(explode((split('Mentions', ','))).alias('Accounts'))\n",
    " .filter('''Accounts = 'marcmarquez93' or \n",
    "            Accounts = 'valeyellow46' or \n",
    "            Accounts = '26_danipedrosa'\n",
    "         ''')\n",
    " .groupBy('Accounts')\n",
    " .count()\n",
    " .show()\n",
    ")\n"
   ]
  },
  {
   "cell_type": "markdown",
   "metadata": {},
   "source": [
    "### b) Contabilizar los 5 países que más tweets han publicado (considerando los tweets que contengan dicha información).\n"
   ]
  },
  {
   "cell_type": "code",
   "execution_count": 44,
   "metadata": {
    "collapsed": false
   },
   "outputs": [
    {
     "data": {
      "text/plain": [
       "[Row(COUNTRY='es', count=172577),\n",
       " Row(COUNTRY='us', count=12722),\n",
       " Row(COUNTRY='gb', count=12588),\n",
       " Row(COUNTRY='id', count=8725),\n",
       " Row(COUNTRY='it', count=1843)]"
      ]
     },
     "execution_count": 44,
     "metadata": {},
     "output_type": "execute_result"
    }
   ],
   "source": [
    "(df.select('COUNTRY')\n",
    " .filter(df['COUNTRY'] != 'not public')\n",
    " .groupBy('COUNTRY')\n",
    " .count()\n",
    " .orderBy('count', ascending=False)\n",
    " .take(5)\n",
    ")"
   ]
  }
 ],
 "metadata": {
  "anaconda-cloud": {},
  "kernelspec": {
   "display_name": "Python [intro]",
   "language": "python",
   "name": "Python [intro]"
  },
  "language_info": {
   "codemirror_mode": {
    "name": "ipython",
    "version": 3
   },
   "file_extension": ".py",
   "mimetype": "text/x-python",
   "name": "python",
   "nbconvert_exporter": "python",
   "pygments_lexer": "ipython3",
   "version": "3.5.2"
  }
 },
 "nbformat": 4,
 "nbformat_minor": 0
}
