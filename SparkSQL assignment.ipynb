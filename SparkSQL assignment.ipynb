{
 "cells": [
  {
   "cell_type": "markdown",
   "metadata": {},
   "source": [
    "# SparkSQL assignment with Python\n",
    "## José Vicente Mellado"
   ]
  },
  {
   "cell_type": "markdown",
   "metadata": {},
   "source": [
    "### Reading file"
   ]
  },
  {
   "cell_type": "code",
   "execution_count": null,
   "metadata": {
    "collapsed": true
   },
   "outputs": [],
   "source": [
    "## No need to run these lines, everything has been configured in spark-env.sh\n",
    "\n",
    "#import findspark\n",
    "#findspark.init('/spark_dir')\n",
    "\n",
    "##Configuramos el sparksession\n",
    "#import pyspark\n",
    "#from pyspark.sql import SparkSession\n",
    "\n",
    "#spark = (SparkSession.builder\n",
    "#         .master('local[*]')\n",
    "#         .config('spark.driver.cores', 1)\n",
    "#         .appName('estudio_spark')\n",
    "#         .getOrCreate()\n",
    "#        )\n",
    "##obtenemos el sparkcontext a partir del sparksession\n",
    "#sc = spark.sparkContext"
   ]
  },
  {
   "cell_type": "code",
   "execution_count": 7,
   "metadata": {
    "collapsed": false
   },
   "outputs": [],
   "source": [
    "from pyspark.sql.types import *\n",
    "\n",
    "st = StructType([\n",
    "        StructField('ID', LongType(), True),\n",
    "        StructField('PARENT-SYS-ID', StringType(), True),\n",
    "        StructField('Source', StringType(), True),\n",
    "        StructField('Mentions', StringType(), True),\n",
    "        StructField('Target', StringType(), True),\n",
    "        StructField('NAME Source', StringType(), True),\n",
    "        StructField('BODY', StringType(), True),\n",
    "        StructField('PUBDATE', TimestampType(), True),\n",
    "        StructField('URLs coma separated', StringType(), True),\n",
    "        StructField('Type TW-RT-MT', StringType(), True),\n",
    "        StructField('LINK', StringType(), True),\n",
    "        StructField('n1 Link', ByteType(), True),\n",
    "        StructField('n1 Picture', ByteType(), True),\n",
    "        StructField('PERSONAL-WEBSITE', StringType(), True),\n",
    "        StructField('COUNTRY', StringType(), True),\n",
    "        StructField('ALL-NICK-ACTIVITY-EVER', LongType(), True),\n",
    "        StructField('NICK-FOLLOWERS', LongType(), True),\n",
    "        StructField('FRIENDS-FOLLOWING-AUDIENCE', LongType(), True),\n",
    "        StructField('LOCATION', StringType(), True)\n",
    "    ]\n",
    ")\n",
    "\n",
    "#https://spark.apache.org/docs/2.0.0-preview/api/python/pyspark.sql.html#pyspark.sql.DataFrameReader\n",
    "df = spark.read.csv('tweets.csv', \n",
    "                    header=True, \n",
    "                    sep='\\t',\n",
    "                    schema=st,\n",
    "                    timestampFormat='dd/MM/yyyy HH:mm',\n",
    "                    mode='PERMISSIVE')"
   ]
  },
  {
   "cell_type": "markdown",
   "metadata": {},
   "source": [
    "### a) Contabilizar el número total de menciones a los pilotos Marc Márquez, Valentino Rossi y Dani Pedrosa.\n",
    "\n"
   ]
  },
  {
   "cell_type": "code",
   "execution_count": 51,
   "metadata": {
    "collapsed": false
   },
   "outputs": [
    {
     "data": {
      "text/plain": [
       "[('26_danipedrosa', 12341), ('marcmarquez93', 58027), ('valeyellow46', 61103)]"
      ]
     },
     "execution_count": 51,
     "metadata": {},
     "output_type": "execute_result"
    }
   ],
   "source": [
    "(df.select('Mentions')\n",
    " .filter(df['Mentions'].like('%marcmarquez93%') | \n",
    "         df['Mentions'].like('%valeyellow46%') | \n",
    "         df['Mentions'].like('%26_danipedrosa%'))\n",
    " .rdd.flatMap(lambda mentions: \n",
    "              filter(lambda x: x == 'marcmarquez93' or x == 'valeyellow46' or x == '26_danipedrosa', \n",
    "                     list(set(mentions[0].split(',')))\n",
    "                    )\n",
    "             )\n",
    " .map(lambda user: (user, 1))\n",
    " .reduceByKey(lambda a, b: a + b)\n",
    " .collect()\n",
    ")\n",
    "\n",
    "# Alternative query\n",
    "#from pyspark.sql.functions import explode, split\n",
    "#\n",
    "#(df.select('ID', 'Mentions')\n",
    "# .filter(df['Mentions'].like('%marcmarquez93%') | \n",
    "#         df['Mentions'].like('%valeyellow46%') | \n",
    "#         df['Mentions'].like('%26_danipedrosa%'))\n",
    "# .withColumn('Mentions', explode((split('Mentions', ','))))\n",
    "# .distinct()\n",
    "# .filter('''Mentions = 'marcmarquez93' or \n",
    "#            Mentions = 'valeyellow46' or \n",
    "#            Mentions = '26_danipedrosa'\n",
    "#         ''')\n",
    "# .groupBy('Mentions')\n",
    "# .count() \n",
    "# .show())"
   ]
  },
  {
   "cell_type": "markdown",
   "metadata": {},
   "source": [
    "### b) Contabilizar los 5 países que más tweets han publicado (considerando los tweets que contengan dicha información).\n"
   ]
  },
  {
   "cell_type": "code",
   "execution_count": 15,
   "metadata": {
    "collapsed": false
   },
   "outputs": [
    {
     "data": {
      "text/plain": [
       "[Row(COUNTRY='es', count=172577),\n",
       " Row(COUNTRY='us', count=12722),\n",
       " Row(COUNTRY='gb', count=12588),\n",
       " Row(COUNTRY='id', count=8725),\n",
       " Row(COUNTRY='it', count=1843)]"
      ]
     },
     "execution_count": 15,
     "metadata": {},
     "output_type": "execute_result"
    }
   ],
   "source": [
    "(df.select('COUNTRY')\n",
    " .filter(df['COUNTRY'] != 'not public')\n",
    " .groupBy('COUNTRY')\n",
    " .count()\n",
    " .orderBy('count', ascending=False)\n",
    " .take(5)\n",
    ")"
   ]
  },
  {
   "cell_type": "markdown",
   "metadata": {},
   "source": [
    "### c) Contabilizar los 3 hashtags más utilizados (que aparezcan el mayor número de veces) en el cuerpo de los tweets (campo \"body\").\n"
   ]
  },
  {
   "cell_type": "code",
   "execution_count": 52,
   "metadata": {
    "collapsed": false
   },
   "outputs": [
    {
     "data": {
      "text/plain": [
       "[('#motogp', 51911), ('#qatar', 9974), ('#moto3', 5793)]"
      ]
     },
     "execution_count": 52,
     "metadata": {},
     "output_type": "execute_result"
    }
   ],
   "source": [
    "(df.select('BODY')\n",
    " .filter(df['BODY'].like('%#%'))\n",
    " .rdd.flatMap(lambda mentions: \n",
    "              filter(lambda x: x.startswith('#'), \n",
    "                     list(set(mentions[0].split(' ')))\n",
    "                    )\n",
    "             )\n",
    " .map(lambda hashtag: (hashtag, 1))\n",
    " .reduceByKey(lambda a, b: a + b)\n",
    " .takeOrdered(3, key = lambda hashtag: -hashtag[1])\n",
    ")\n",
    "\n",
    "# Alternative query\n",
    "#(df.select('ID', 'BODY')\n",
    "# .filter(df['BODY'].like('%#%'))\n",
    "# .withColumn('BODY', explode((split('BODY', ' '))))\n",
    "# .distinct()\n",
    "# .filter(\"BODY like '#%'\")\n",
    "# .groupBy('BODY')\n",
    "# .count()\n",
    "# .orderBy('count', ascending=False)\n",
    "# .take(3)\n",
    "#)"
   ]
  },
  {
   "cell_type": "markdown",
   "metadata": {},
   "source": [
    "# Spark Streaming"
   ]
  },
  {
   "cell_type": "markdown",
   "metadata": {},
   "source": [
    "## Please run first the following lines: \n",
    "\n",
    "\n",
    "\n",
    "cd ./kafka_2.11-0.10.2.0/\n",
    "./bin/zookeeper-server-start.sh ./config/zookeeper.properties\n",
    "\n",
    "./bin/kafka-server-start.sh ./config/server.properties\n",
    "\n",
    "cd ./sparksql-sparkstreaming-kafka\n",
    "\n",
    "source activate conda_env_name\n",
    "\n",
    "python ./timestamp_kafka_producer.py Quatar_GP_2014 ./tweets.csv \n",
    "\n",
    "### Note: tweets.csv is sorted by date"
   ]
  },
  {
   "cell_type": "markdown",
   "metadata": {},
   "source": [
    "### The following lines were provided by the teachers"
   ]
  },
  {
   "cell_type": "code",
   "execution_count": 8,
   "metadata": {
    "collapsed": false
   },
   "outputs": [],
   "source": [
    "from __future__ import print_function\n",
    "from pyspark.streaming import StreamingContext\n",
    "from pyspark.streaming.kafka import KafkaUtils\n",
    "from operator import add\n",
    "from operator import sub\n",
    "\n",
    "ssc = StreamingContext(sc, 5) # 5 seconds\n",
    "\n",
    "kafkaBrokerIPPort = \"127.0.0.1:9092\"\n",
    "\n",
    "import kafka\n",
    "\n",
    "class KafkaProducerWrapper(object):\n",
    "  producer = None\n",
    "  @staticmethod\n",
    "  def getProducer(brokerList):\n",
    "    if KafkaProducerWrapper.producer != None:\n",
    "      return KafkaProducerWrapper.producer\n",
    "    else:\n",
    "      KafkaProducerWrapper.producer = kafka.KafkaProducer(bootstrap_servers=brokerList, key_serializer=str.encode, value_serializer=str.encode)\n",
    "      return KafkaProducerWrapper.producer\n",
    " \n",
    "def sendMetrics(itr):\n",
    "  prod = KafkaProducerWrapper.getProducer([kafkaBrokerIPPort])\n",
    "  for m in itr:\n",
    "    prod.send(\"metrics\", key=m[0], value=m[0]+\",\"+str(m[1]))\n",
    "  prod.flush()"
   ]
  },
  {
   "cell_type": "code",
   "execution_count": 9,
   "metadata": {
    "collapsed": false
   },
   "outputs": [],
   "source": [
    "import ujson\n",
    "\n",
    "topic_name = 'Quatar_GP_2014'\n",
    "\n",
    "kafkaParams = {\"metadata.broker.list\": kafkaBrokerIPPort}\n",
    "stream = KafkaUtils.createDirectStream(ssc, [topic_name], kafkaParams)\n",
    "stream = stream.map(lambda o: ujson.loads(o[1]))"
   ]
  },
  {
   "cell_type": "markdown",
   "metadata": {},
   "source": [
    "### a) Calcular el número total de menciones recibidas por cada cuenta de usuario durante el intervalo de 5 segundos.\n"
   ]
  },
  {
   "cell_type": "code",
   "execution_count": 135,
   "metadata": {
    "collapsed": false
   },
   "outputs": [],
   "source": [
    "ssc.checkpoint(\"checkpoint\")\n",
    "\n",
    "counts = (stream.flatMap(lambda line: list(filter(lambda x: len(x) > 0, line['Mentions'].split(','))))\n",
    "                .map(lambda user: (user, 1)) \n",
    "                .reduceByKey(lambda a, b: a + b))\n",
    "\n",
    "counts.pprint()\n",
    "\n",
    "# In case we wanted to send the result to another Kafka queue\n",
    "#counts.foreachRDD(lambda rdd: rdd.foreachPartition(sendMetrics))"
   ]
  },
  {
   "cell_type": "code",
   "execution_count": 131,
   "metadata": {
    "collapsed": false,
    "scrolled": true
   },
   "outputs": [],
   "source": [
    "ssc.start()"
   ]
  },
  {
   "cell_type": "markdown",
   "metadata": {},
   "source": [
    "### b) Calcular la frecuencia total acumulada de apariciones de cada hashtag en el campo body, actualizando un ranking con los 5 hashtags con mayor frecuencia de aparición.\n"
   ]
  },
  {
   "cell_type": "code",
   "execution_count": 4,
   "metadata": {
    "collapsed": false
   },
   "outputs": [],
   "source": [
    "ssc.checkpoint(\"checkpoint\")\n",
    "\n",
    "hashtags = (stream.flatMap(lambda line: filter(lambda word: word.startswith('#'), list(set(line['BODY'].split(' ')))))\n",
    " .map(lambda hashtag: (hashtag, 1))\n",
    " .updateStateByKey(lambda currentVal, totalVal: sum(currentVal) + totalVal if totalVal != None else sum(currentVal))\n",
    ")\n",
    "\n",
    "top_5 =  (hashtags.transform(lambda rdd: rdd.context.parallelize( \n",
    "                                rdd.takeOrdered(5, key = lambda hashtag: -hashtag[1])\n",
    "                            ) \n",
    "          ))\n",
    "\n",
    "top_5.pprint()\n",
    "\n",
    "# In case we wanted to send the result to another Kafka queue\n",
    "#top_5.foreachRDD(lambda rdd: rdd.foreachPartition(sendMetrics))"
   ]
  },
  {
   "cell_type": "code",
   "execution_count": 5,
   "metadata": {
    "collapsed": false,
    "scrolled": true
   },
   "outputs": [
    {
     "name": "stdout",
     "output_type": "stream",
     "text": [
      "-------------------------------------------\n",
      "Time: 2017-06-23 19:21:30\n",
      "-------------------------------------------\n",
      "('#motogp', 162)\n",
      "('#qatar', 16)\n",
      "('#gobrad!', 11)\n",
      "('#unleashthebeast...', 9)\n",
      "('#luiis_3x', 9)\n",
      "\n",
      "-------------------------------------------\n",
      "Time: 2017-06-23 19:21:35\n",
      "-------------------------------------------\n",
      "('#motogp', 169)\n",
      "('#qatar', 16)\n",
      "('#gobrad!', 11)\n",
      "('#unleashthebeast...', 9)\n",
      "('#luiis_3x', 9)\n",
      "\n",
      "-------------------------------------------\n",
      "Time: 2017-06-23 19:21:40\n",
      "-------------------------------------------\n",
      "('#motogp', 175)\n",
      "('#qatar', 16)\n",
      "('#unleashthebeast...', 11)\n",
      "('#gobrad!', 11)\n",
      "('#luiis_3x', 9)\n",
      "\n",
      "-------------------------------------------\n",
      "Time: 2017-06-23 19:21:45\n",
      "-------------------------------------------\n",
      "('#motogp', 182)\n",
      "('#qatar', 17)\n",
      "('#unleashthebeast...', 11)\n",
      "('#gobrad!', 11)\n",
      "('#luiis_3x', 9)\n",
      "\n",
      "-------------------------------------------\n",
      "Time: 2017-06-23 19:21:50\n",
      "-------------------------------------------\n",
      "('#motogp', 191)\n",
      "('#qatar', 18)\n",
      "('#unleashthebeast...', 11)\n",
      "('#gobrad!', 11)\n",
      "('#luiis_3x', 9)\n",
      "\n",
      "-------------------------------------------\n",
      "Time: 2017-06-23 19:21:55\n",
      "-------------------------------------------\n",
      "('#motogp', 193)\n",
      "('#qatar', 20)\n",
      "('#unleashthebeast...', 13)\n",
      "('#gobrad!', 11)\n",
      "('#luiis_3x', 9)\n",
      "\n",
      "-------------------------------------------\n",
      "Time: 2017-06-23 19:22:00\n",
      "-------------------------------------------\n",
      "('#motogp', 205)\n",
      "('#qatar', 24)\n",
      "('#unleashthebeast...', 13)\n",
      "('#gobrad!', 12)\n",
      "('#luiis_3x', 9)\n",
      "\n",
      "-------------------------------------------\n",
      "Time: 2017-06-23 19:22:05\n",
      "-------------------------------------------\n",
      "('#motogp', 213)\n",
      "('#qatar', 24)\n",
      "('#unleashthebeast...', 13)\n",
      "('#gobrad!', 13)\n",
      "('#luiis_3x', 9)\n",
      "\n",
      "-------------------------------------------\n",
      "Time: 2017-06-23 19:22:10\n",
      "-------------------------------------------\n",
      "('#motogp', 219)\n",
      "('#qatar', 25)\n",
      "('#unleashthebeast...', 14)\n",
      "('#gobrad!', 14)\n",
      "('#luiis_3x', 9)\n",
      "\n",
      "-------------------------------------------\n",
      "Time: 2017-06-23 19:22:15\n",
      "-------------------------------------------\n",
      "('#motogp', 226)\n",
      "('#qatar', 26)\n",
      "('#unleashthebeast...', 14)\n",
      "('#gobrad!', 14)\n",
      "('#luiis_3x', 9)\n",
      "\n",
      "-------------------------------------------\n",
      "Time: 2017-06-23 19:22:20\n",
      "-------------------------------------------\n",
      "('#motogp', 235)\n",
      "('#qatar', 27)\n",
      "('#unleashthebeast...', 16)\n",
      "('#gobrad!', 14)\n",
      "('#luiis_3x', 9)\n",
      "\n",
      "-------------------------------------------\n",
      "Time: 2017-06-23 19:22:25\n",
      "-------------------------------------------\n",
      "('#motogp', 241)\n",
      "('#qatar', 28)\n",
      "('#unleashthebeast...', 16)\n",
      "('#gobrad!', 14)\n",
      "('#luiis_3x', 9)\n",
      "\n",
      "-------------------------------------------\n",
      "Time: 2017-06-23 19:22:30\n",
      "-------------------------------------------\n",
      "('#motogp', 246)\n",
      "('#qatar', 30)\n",
      "('#unleashthebeast...', 16)\n",
      "('#gobrad!', 14)\n",
      "('#moto3', 10)\n",
      "\n",
      "-------------------------------------------\n",
      "Time: 2017-06-23 19:22:35\n",
      "-------------------------------------------\n",
      "('#motogp', 253)\n",
      "('#qatar', 33)\n",
      "('#unleashthebeast...', 16)\n",
      "('#gobrad!', 15)\n",
      "('#moto2', 11)\n",
      "\n",
      "-------------------------------------------\n",
      "Time: 2017-06-23 19:22:40\n",
      "-------------------------------------------\n",
      "('#motogp', 257)\n",
      "('#qatar', 33)\n",
      "('#unleashthebeast...', 16)\n",
      "('#gobrad!', 15)\n",
      "('#moto2', 11)\n",
      "\n",
      "-------------------------------------------\n",
      "Time: 2017-06-23 19:22:45\n",
      "-------------------------------------------\n",
      "('#motogp', 259)\n",
      "('#qatar', 33)\n",
      "('#unleashthebeast...', 16)\n",
      "('#gobrad!', 15)\n",
      "('#moto2', 11)\n",
      "\n",
      "-------------------------------------------\n",
      "Time: 2017-06-23 19:22:50\n",
      "-------------------------------------------\n",
      "('#motogp', 261)\n",
      "('#qatar', 33)\n",
      "('#unleashthebeast...', 16)\n",
      "('#gobrad!', 15)\n",
      "('#moto2', 11)\n",
      "\n",
      "-------------------------------------------\n",
      "Time: 2017-06-23 19:22:55\n",
      "-------------------------------------------\n",
      "('#motogp', 268)\n",
      "('#qatar', 33)\n",
      "('#unleashthebeast...', 16)\n",
      "('#gobrad!', 15)\n",
      "('#moto2', 12)\n",
      "\n",
      "-------------------------------------------\n",
      "Time: 2017-06-23 19:23:00\n",
      "-------------------------------------------\n",
      "('#motogp', 278)\n",
      "('#qatar', 33)\n",
      "('#unleashthebeast...', 16)\n",
      "('#gobrad!', 15)\n",
      "('#moto2', 12)\n",
      "\n"
     ]
    }
   ],
   "source": [
    "ssc.start()"
   ]
  },
  {
   "cell_type": "markdown",
   "metadata": {},
   "source": [
    "### c) Calcular en una ventana temporal 20 segundos con offset de 10 segundos la frecuencia de aparición de cada uno de los 3 posibles tipos de tweets (TW-RT-MT)."
   ]
  },
  {
   "cell_type": "code",
   "execution_count": 10,
   "metadata": {
    "collapsed": true
   },
   "outputs": [],
   "source": [
    "ssc.checkpoint(\"checkpoint\")\n",
    "\n",
    "windowed_type_count = (stream.map(lambda line: (line['Type TW-RT-MT'], 1))\n",
    " .reduceByKeyAndWindow(add, sub, 20, 10)\n",
    ")\n",
    "\n",
    "windowed_type_count.pprint()\n",
    "\n",
    "# In case we wanted to send the result to another Kafka queue\n",
    "#windowed_type_count.foreachRDD(lambda rdd: rdd.foreachPartition(sendMetrics))"
   ]
  },
  {
   "cell_type": "code",
   "execution_count": 11,
   "metadata": {
    "collapsed": false,
    "scrolled": true
   },
   "outputs": [
    {
     "name": "stdout",
     "output_type": "stream",
     "text": [
      "-------------------------------------------\n",
      "Time: 2017-06-23 19:35:25\n",
      "-------------------------------------------\n",
      "('MT', 53)\n",
      "('TW', 31)\n",
      "('RT', 124)\n",
      "\n",
      "-------------------------------------------\n",
      "Time: 2017-06-23 19:35:35\n",
      "-------------------------------------------\n",
      "('MT', 67)\n",
      "('TW', 41)\n",
      "('RT', 163)\n",
      "\n",
      "-------------------------------------------\n",
      "Time: 2017-06-23 19:35:45\n",
      "-------------------------------------------\n",
      "('MT', 34)\n",
      "('TW', 27)\n",
      "('RT', 64)\n",
      "\n",
      "-------------------------------------------\n",
      "Time: 2017-06-23 19:35:55\n",
      "-------------------------------------------\n",
      "('MT', 32)\n",
      "('TW', 26)\n",
      "('RT', 69)\n",
      "\n",
      "-------------------------------------------\n",
      "Time: 2017-06-23 19:36:05\n",
      "-------------------------------------------\n",
      "('MT', 22)\n",
      "('TW', 25)\n",
      "('RT', 81)\n",
      "\n",
      "-------------------------------------------\n",
      "Time: 2017-06-23 19:36:15\n",
      "-------------------------------------------\n",
      "('MT', 26)\n",
      "('TW', 39)\n",
      "('RT', 66)\n",
      "\n",
      "-------------------------------------------\n",
      "Time: 2017-06-23 19:36:25\n",
      "-------------------------------------------\n",
      "('MT', 33)\n",
      "('TW', 40)\n",
      "('RT', 56)\n",
      "\n",
      "-------------------------------------------\n",
      "Time: 2017-06-23 19:36:35\n",
      "-------------------------------------------\n",
      "('MT', 46)\n",
      "('TW', 29)\n",
      "('RT', 64)\n",
      "\n",
      "-------------------------------------------\n",
      "Time: 2017-06-23 19:36:45\n",
      "-------------------------------------------\n",
      "('MT', 51)\n",
      "('TW', 26)\n",
      "('RT', 67)\n",
      "\n",
      "-------------------------------------------\n",
      "Time: 2017-06-23 19:36:55\n",
      "-------------------------------------------\n",
      "('MT', 41)\n",
      "('TW', 29)\n",
      "('RT', 67)\n",
      "\n",
      "-------------------------------------------\n",
      "Time: 2017-06-23 19:37:05\n",
      "-------------------------------------------\n",
      "('MT', 38)\n",
      "('TW', 28)\n",
      "('RT', 61)\n",
      "\n",
      "-------------------------------------------\n",
      "Time: 2017-06-23 19:37:15\n",
      "-------------------------------------------\n",
      "('MT', 36)\n",
      "('TW', 31)\n",
      "('RT', 59)\n",
      "\n",
      "-------------------------------------------\n",
      "Time: 2017-06-23 19:37:25\n",
      "-------------------------------------------\n",
      "('MT', 38)\n",
      "('TW', 32)\n",
      "('RT', 77)\n",
      "\n",
      "-------------------------------------------\n",
      "Time: 2017-06-23 19:37:35\n",
      "-------------------------------------------\n",
      "('MT', 40)\n",
      "('TW', 32)\n",
      "('RT', 78)\n",
      "\n",
      "-------------------------------------------\n",
      "Time: 2017-06-23 19:37:45\n",
      "-------------------------------------------\n",
      "('MT', 34)\n",
      "('TW', 28)\n",
      "('RT', 69)\n",
      "\n",
      "-------------------------------------------\n",
      "Time: 2017-06-23 19:37:55\n",
      "-------------------------------------------\n",
      "('MT', 36)\n",
      "('TW', 26)\n",
      "('RT', 62)\n",
      "\n",
      "-------------------------------------------\n",
      "Time: 2017-06-23 19:38:05\n",
      "-------------------------------------------\n",
      "('MT', 45)\n",
      "('TW', 35)\n",
      "('RT', 54)\n",
      "\n",
      "-------------------------------------------\n",
      "Time: 2017-06-23 19:38:15\n",
      "-------------------------------------------\n",
      "('MT', 37)\n",
      "('TW', 34)\n",
      "('RT', 64)\n",
      "\n",
      "-------------------------------------------\n",
      "Time: 2017-06-23 19:38:25\n",
      "-------------------------------------------\n",
      "('MT', 26)\n",
      "('TW', 24)\n",
      "('RT', 83)\n",
      "\n",
      "-------------------------------------------\n",
      "Time: 2017-06-23 19:38:35\n",
      "-------------------------------------------\n",
      "('MT', 29)\n",
      "('TW', 21)\n",
      "('RT', 88)\n",
      "\n",
      "-------------------------------------------\n",
      "Time: 2017-06-23 19:38:45\n",
      "-------------------------------------------\n",
      "('MT', 29)\n",
      "('TW', 24)\n",
      "('RT', 81)\n",
      "\n",
      "-------------------------------------------\n",
      "Time: 2017-06-23 19:38:55\n",
      "-------------------------------------------\n",
      "('MT', 26)\n",
      "('TW', 26)\n",
      "('RT', 72)\n",
      "\n",
      "-------------------------------------------\n",
      "Time: 2017-06-23 19:39:05\n",
      "-------------------------------------------\n",
      "('MT', 32)\n",
      "('TW', 28)\n",
      "('RT', 62)\n",
      "\n",
      "-------------------------------------------\n",
      "Time: 2017-06-23 19:39:15\n",
      "-------------------------------------------\n",
      "('MT', 42)\n",
      "('TW', 25)\n",
      "('RT', 63)\n",
      "\n"
     ]
    }
   ],
   "source": [
    "ssc.start()"
   ]
  },
  {
   "cell_type": "code",
   "execution_count": 12,
   "metadata": {
    "collapsed": false
   },
   "outputs": [],
   "source": [
    "ssc.stop(False)"
   ]
  }
 ],
 "metadata": {
  "anaconda-cloud": {},
  "kernelspec": {
   "display_name": "Python [intro]",
   "language": "python",
   "name": "Python [intro]"
  },
  "language_info": {
   "codemirror_mode": {
    "name": "ipython",
    "version": 3
   },
   "file_extension": ".py",
   "mimetype": "text/x-python",
   "name": "python",
   "nbconvert_exporter": "python",
   "pygments_lexer": "ipython3",
   "version": "3.5.2"
  }
 },
 "nbformat": 4,
 "nbformat_minor": 0
}
