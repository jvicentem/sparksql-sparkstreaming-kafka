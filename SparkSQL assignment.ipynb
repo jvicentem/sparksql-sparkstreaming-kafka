{
 "cells": [
  {
   "cell_type": "markdown",
   "metadata": {},
   "source": [
    "# SparkSQL assignment with Python\n",
    "## José Vicente Mellado"
   ]
  },
  {
   "cell_type": "markdown",
   "metadata": {},
   "source": [
    "### Reading file"
   ]
  },
  {
   "cell_type": "code",
   "execution_count": null,
   "metadata": {
    "collapsed": true
   },
   "outputs": [],
   "source": [
    "## No need to run these lines, everything has been configured in spark-env.sh\n",
    "\n",
    "#import findspark\n",
    "#findspark.init('/spark_dir')\n",
    "\n",
    "##Configuramos el sparksession\n",
    "#import pyspark\n",
    "#from pyspark.sql import SparkSession\n",
    "\n",
    "#spark = (SparkSession.builder\n",
    "#         .master('local[*]')\n",
    "#         .config('spark.driver.cores', 1)\n",
    "#         .appName('estudio_spark')\n",
    "#         .getOrCreate()\n",
    "#        )\n",
    "##obtenemos el sparkcontext a partir del sparksession\n",
    "#sc = spark.sparkContext"
   ]
  },
  {
   "cell_type": "code",
   "execution_count": 12,
   "metadata": {
    "collapsed": false
   },
   "outputs": [],
   "source": [
    "from pyspark.sql.types import *\n",
    "\n",
    "st = StructType([\n",
    "        StructField('ID', LongType(), True),\n",
    "        StructField('PARENT-SYS-ID', StringType(), True),\n",
    "        StructField('Source', StringType(), True),\n",
    "        StructField('Mentions', StringType(), True),\n",
    "        StructField('Target', StringType(), True),\n",
    "        StructField('NAME Source', StringType(), True),\n",
    "        StructField('BODY', StringType(), True),\n",
    "        StructField('PUBDATE', TimestampType(), True),\n",
    "        StructField('URLs coma separated', StringType(), True),\n",
    "        StructField('Type TW-RT-MT', StringType(), True),\n",
    "        StructField('LINK', StringType(), True),\n",
    "        StructField('n1 Link', ByteType(), True),\n",
    "        StructField('n1 Picture', ByteType(), True),\n",
    "        StructField('PERSONAL-WEBSITE', StringType(), True),\n",
    "        StructField('COUNTRY', StringType(), True),\n",
    "        StructField('ALL-NICK-ACTIVITY-EVER', LongType(), True),\n",
    "        StructField('NICK-FOLLOWERS', LongType(), True),\n",
    "        StructField('FRIENDS-FOLLOWING-AUDIENCE', LongType(), True),\n",
    "        StructField('LOCATION', StringType(), True)\n",
    "    ]\n",
    ")\n",
    "\n",
    "#https://spark.apache.org/docs/2.0.0-preview/api/python/pyspark.sql.html#pyspark.sql.DataFrameReader\n",
    "df = spark.read.csv('tweets.csv', \n",
    "                    header=True, \n",
    "                    sep='\\t',\n",
    "                    schema=st,\n",
    "                    timestampFormat='dd/MM/yyyy HH:mm',\n",
    "                    mode='PERMISSIVE')"
   ]
  },
  {
   "cell_type": "markdown",
   "metadata": {},
   "source": [
    "### Unique mentions"
   ]
  },
  {
   "cell_type": "code",
   "execution_count": 13,
   "metadata": {
    "collapsed": false
   },
   "outputs": [],
   "source": [
    "from pyspark.sql.functions import udf\n",
    "\n",
    "def list_to_string(l):\n",
    "    if l != None:\n",
    "        return str(l).replace('[','').replace(']','').replace('\\'','').replace(' ', '')\n",
    "\n",
    "def remove_duplicates(list_string):\n",
    "    if list_string != None:\n",
    "        return list(filter(lambda x: len(x)>0, list(set(list_string.split(',')))))\n",
    "\n",
    "only_uniques = udf(lambda row: list_to_string(remove_duplicates( row )) if row != None else None, StringType())\n",
    "\n",
    "\n",
    "df = df.withColumn('Mentions', \n",
    "                    only_uniques(df['Mentions'])\n",
    "                  )"
   ]
  },
  {
   "cell_type": "markdown",
   "metadata": {},
   "source": [
    "### a) Contabilizar el número total de menciones a los pilotos Marc Márquez, Valentino Rossi y Dani Pedrosa.\n",
    "\n"
   ]
  },
  {
   "cell_type": "code",
   "execution_count": 14,
   "metadata": {
    "collapsed": false
   },
   "outputs": [
    {
     "name": "stdout",
     "output_type": "stream",
     "text": [
      "+--------------+-----+\n",
      "|      Accounts|count|\n",
      "+--------------+-----+\n",
      "| marcmarquez93|58027|\n",
      "|26_danipedrosa|12341|\n",
      "|  valeyellow46|61103|\n",
      "+--------------+-----+\n",
      "\n"
     ]
    }
   ],
   "source": [
    "from pyspark.sql.functions import explode, split\n",
    "\n",
    "(df.select('Mentions')\n",
    " .filter(df['Mentions'].like('%marcmarquez93%') | \n",
    "         df['Mentions'].like('%valeyellow46%') | \n",
    "         df['Mentions'].like('%26_danipedrosa%'))\n",
    " .select(explode((split('Mentions', ','))).alias('Accounts'))\n",
    " .filter('''Accounts = 'marcmarquez93' or \n",
    "            Accounts = 'valeyellow46' or \n",
    "            Accounts = '26_danipedrosa'\n",
    "         ''')\n",
    " .groupBy('Accounts')\n",
    " .count()\n",
    " .show()\n",
    ")\n"
   ]
  },
  {
   "cell_type": "markdown",
   "metadata": {},
   "source": [
    "### b) Contabilizar los 5 países que más tweets han publicado (considerando los tweets que contengan dicha información).\n"
   ]
  },
  {
   "cell_type": "code",
   "execution_count": 15,
   "metadata": {
    "collapsed": false
   },
   "outputs": [
    {
     "data": {
      "text/plain": [
       "[Row(COUNTRY='es', count=172577),\n",
       " Row(COUNTRY='us', count=12722),\n",
       " Row(COUNTRY='gb', count=12588),\n",
       " Row(COUNTRY='id', count=8725),\n",
       " Row(COUNTRY='it', count=1843)]"
      ]
     },
     "execution_count": 15,
     "metadata": {},
     "output_type": "execute_result"
    }
   ],
   "source": [
    "(df.select('COUNTRY')\n",
    " .filter(df['COUNTRY'] != 'not public')\n",
    " .groupBy('COUNTRY')\n",
    " .count()\n",
    " .orderBy('count', ascending=False)\n",
    " .take(5)\n",
    ")"
   ]
  },
  {
   "cell_type": "markdown",
   "metadata": {},
   "source": [
    "### c) Contabilizar los 3 hashtags más utilizados (que aparezcan el mayor número de veces) en el cuerpo de los tweets (campo \"body\").\n"
   ]
  },
  {
   "cell_type": "code",
   "execution_count": 16,
   "metadata": {
    "collapsed": false
   },
   "outputs": [
    {
     "data": {
      "text/plain": [
       "[Row(Words='#motogp', count=51959),\n",
       " Row(Words='#qatar', count=9976),\n",
       " Row(Words='#moto3', count=5797)]"
      ]
     },
     "execution_count": 16,
     "metadata": {},
     "output_type": "execute_result"
    }
   ],
   "source": [
    "(df.select('BODY')\n",
    " .filter(df['BODY'].like('%#%'))\n",
    " .select(explode((split('BODY', ' '))).alias('Words'))\n",
    " .filter(\"Words like '#%'\")\n",
    " .groupBy('Words')\n",
    " .count()\n",
    " .orderBy('count', ascending=False)\n",
    " .take(3)\n",
    ")"
   ]
  },
  {
   "cell_type": "markdown",
   "metadata": {},
   "source": [
    "## Spark Streaming"
   ]
  },
  {
   "cell_type": "markdown",
   "metadata": {},
   "source": [
    "# Please run first the following lines: \n",
    "\n",
    "\n",
    "\n",
    "cd ./kafka_2.11-0.10.2.0/\n",
    "./bin/zookeeper-server-start.sh ./config/zookeeper.properties\n",
    "\n",
    "./bin/kafka-server-start.sh ./config/server.properties\n",
    "\n",
    "cd ./sparksql-sparkstreaming-kafka\n",
    "\n",
    "python ./timestamp_kafka_producer.py Quatar_GP_2014 ./tweets.csv "
   ]
  },
  {
   "cell_type": "markdown",
   "metadata": {},
   "source": [
    "### The following lines were provided by the teachers"
   ]
  },
  {
   "cell_type": "code",
   "execution_count": 42,
   "metadata": {
    "collapsed": true
   },
   "outputs": [],
   "source": [
    "from __future__ import print_function\n",
    "from pyspark.streaming import StreamingContext\n",
    "from pyspark.streaming.kafka import KafkaUtils\n",
    "from operator import add\n",
    "from operator import sub\n",
    "\n",
    "ssc = StreamingContext(sc, 5) # 5 seconds\n",
    "\n",
    "kafkaBrokerIPPort = \"127.0.0.1:9092\"\n",
    "\n",
    "import kafka\n",
    "\n",
    "class KafkaProducerWrapper(object):\n",
    "  producer = None\n",
    "  @staticmethod\n",
    "  def getProducer(brokerList):\n",
    "    if KafkaProducerWrapper.producer != None:\n",
    "      return KafkaProducerWrapper.producer\n",
    "    else:\n",
    "      KafkaProducerWrapper.producer = kafka.KafkaProducer(bootstrap_servers=brokerList, key_serializer=str.encode, value_serializer=str.encode)\n",
    "      return KafkaProducerWrapper.producer\n",
    " \n",
    "def sendMetrics(itr):\n",
    "  prod = KafkaProducerWrapper.getProducer([kafkaBrokerIPPort])\n",
    "  for m in itr:\n",
    "    prod.send(\"metrics\", key=m[0], value=m[0]+\",\"+str(m[1]))\n",
    "  prod.flush()"
   ]
  },
  {
   "cell_type": "code",
   "execution_count": 43,
   "metadata": {
    "collapsed": false
   },
   "outputs": [],
   "source": [
    "import ujson\n",
    "\n",
    "topic_name = 'Quatar_GP_2014'\n",
    "\n",
    "kafkaParams = {\"metadata.broker.list\": kafkaBrokerIPPort}\n",
    "stream = KafkaUtils.createDirectStream(ssc, [topic_name], kafkaParams)\n",
    "stream = stream.map(lambda o: ujson.loads(o[1]))"
   ]
  },
  {
   "cell_type": "markdown",
   "metadata": {},
   "source": [
    "### a) Calcular el número total de menciones recibidas por cada cuenta de usuario durante el intervalo de 5 segundos.\n"
   ]
  },
  {
   "cell_type": "code",
   "execution_count": 44,
   "metadata": {
    "collapsed": false
   },
   "outputs": [],
   "source": [
    "def update_func(new_val, last_sum):\n",
    "    return sum(new_val) + (last_sum or 0)\n",
    "\n",
    "ssc.checkpoint(\"checkpoint\")\n",
    "\n",
    "counts = (stream.map(lambda line: (line['Type TW-RT-MT'], 1))\n",
    "          .updateStateByKey(update_func))\n",
    "\n",
    "counts.pprint()"
   ]
  },
  {
   "cell_type": "code",
   "execution_count": 45,
   "metadata": {
    "collapsed": false,
    "scrolled": true
   },
   "outputs": [
    {
     "name": "stdout",
     "output_type": "stream",
     "text": [
      "-------------------------------------------\n",
      "Time: 2017-06-14 16:19:50\n",
      "-------------------------------------------\n",
      "('RT', 44)\n",
      "\n",
      "-------------------------------------------\n",
      "Time: 2017-06-14 16:19:55\n",
      "-------------------------------------------\n",
      "('RT', 74)\n",
      "\n",
      "-------------------------------------------\n",
      "Time: 2017-06-14 16:20:00\n",
      "-------------------------------------------\n",
      "('MT', 14)\n",
      "('TW', 1)\n",
      "('RT', 93)\n",
      "\n",
      "-------------------------------------------\n",
      "Time: 2017-06-14 16:20:05\n",
      "-------------------------------------------\n",
      "('MT', 39)\n",
      "('TW', 5)\n",
      "('RT', 94)\n",
      "\n",
      "-------------------------------------------\n",
      "Time: 2017-06-14 16:20:10\n",
      "-------------------------------------------\n",
      "('MT', 40)\n",
      "('TW', 8)\n",
      "('RT', 132)\n",
      "\n",
      "-------------------------------------------\n",
      "Time: 2017-06-14 16:20:15\n",
      "-------------------------------------------\n",
      "('MT', 40)\n",
      "('TW', 8)\n",
      "('RT', 169)\n",
      "\n",
      "-------------------------------------------\n",
      "Time: 2017-06-14 16:20:20\n",
      "-------------------------------------------\n",
      "('MT', 40)\n",
      "('TW', 8)\n",
      "('RT', 205)\n",
      "\n",
      "-------------------------------------------\n",
      "Time: 2017-06-14 16:20:25\n",
      "-------------------------------------------\n",
      "('MT', 58)\n",
      "('TW', 9)\n",
      "('RT', 217)\n",
      "\n",
      "-------------------------------------------\n",
      "Time: 2017-06-14 16:20:30\n",
      "-------------------------------------------\n",
      "('MT', 68)\n",
      "('TW', 20)\n",
      "('RT', 226)\n",
      "\n",
      "-------------------------------------------\n",
      "Time: 2017-06-14 16:20:35\n",
      "-------------------------------------------\n",
      "('MT', 68)\n",
      "('TW', 20)\n",
      "('RT', 263)\n",
      "\n",
      "-------------------------------------------\n",
      "Time: 2017-06-14 16:20:40\n",
      "-------------------------------------------\n",
      "('MT', 68)\n",
      "('TW', 20)\n",
      "('RT', 293)\n",
      "\n",
      "-------------------------------------------\n",
      "Time: 2017-06-14 16:20:45\n",
      "-------------------------------------------\n",
      "('MT', 68)\n",
      "('TW', 20)\n",
      "('RT', 322)\n",
      "\n",
      "-------------------------------------------\n",
      "Time: 2017-06-14 16:20:50\n",
      "-------------------------------------------\n",
      "('MT', 96)\n",
      "('TW', 26)\n",
      "('RT', 323)\n",
      "\n",
      "-------------------------------------------\n",
      "Time: 2017-06-14 16:20:55\n",
      "-------------------------------------------\n",
      "('MT', 100)\n",
      "('TW', 32)\n",
      "('RT', 347)\n",
      "\n",
      "-------------------------------------------\n",
      "Time: 2017-06-14 16:21:00\n",
      "-------------------------------------------\n",
      "('MT', 100)\n",
      "('TW', 32)\n",
      "('RT', 381)\n",
      "\n",
      "-------------------------------------------\n",
      "Time: 2017-06-14 16:21:05\n",
      "-------------------------------------------\n",
      "('MT', 100)\n",
      "('TW', 32)\n",
      "('RT', 405)\n",
      "\n",
      "-------------------------------------------\n",
      "Time: 2017-06-14 16:21:10\n",
      "-------------------------------------------\n",
      "('MT', 100)\n",
      "('TW', 32)\n",
      "('RT', 439)\n",
      "\n",
      "-------------------------------------------\n",
      "Time: 2017-06-14 16:21:15\n",
      "-------------------------------------------\n",
      "('MT', 112)\n",
      "('TW', 42)\n",
      "('RT', 447)\n",
      "\n",
      "-------------------------------------------\n",
      "Time: 2017-06-14 16:21:20\n",
      "-------------------------------------------\n",
      "('MT', 112)\n",
      "('TW', 42)\n",
      "('RT', 477)\n",
      "\n",
      "-------------------------------------------\n",
      "Time: 2017-06-14 16:21:25\n",
      "-------------------------------------------\n",
      "('MT', 112)\n",
      "('TW', 42)\n",
      "('RT', 513)\n",
      "\n",
      "-------------------------------------------\n",
      "Time: 2017-06-14 16:21:30\n",
      "-------------------------------------------\n",
      "('MT', 112)\n",
      "('TW', 43)\n",
      "('RT', 547)\n",
      "\n",
      "-------------------------------------------\n",
      "Time: 2017-06-14 16:21:35\n",
      "-------------------------------------------\n",
      "('MT', 140)\n",
      "('TW', 49)\n",
      "('RT', 547)\n",
      "\n",
      "-------------------------------------------\n",
      "Time: 2017-06-14 16:21:40\n",
      "-------------------------------------------\n",
      "('MT', 144)\n",
      "('TW', 53)\n",
      "('RT', 571)\n",
      "\n",
      "-------------------------------------------\n",
      "Time: 2017-06-14 16:21:45\n",
      "-------------------------------------------\n",
      "('MT', 144)\n",
      "('TW', 53)\n",
      "('RT', 604)\n",
      "\n",
      "-------------------------------------------\n",
      "Time: 2017-06-14 16:21:50\n",
      "-------------------------------------------\n",
      "('MT', 146)\n",
      "('TW', 55)\n",
      "('RT', 633)\n",
      "\n"
     ]
    }
   ],
   "source": [
    "ssc.start()"
   ]
  },
  {
   "cell_type": "code",
   "execution_count": 41,
   "metadata": {
    "collapsed": true
   },
   "outputs": [],
   "source": [
    "ssc.stop(False)"
   ]
  }
 ],
 "metadata": {
  "anaconda-cloud": {},
  "kernelspec": {
   "display_name": "Python [intro]",
   "language": "python",
   "name": "Python [intro]"
  },
  "language_info": {
   "codemirror_mode": {
    "name": "ipython",
    "version": 3
   },
   "file_extension": ".py",
   "mimetype": "text/x-python",
   "name": "python",
   "nbconvert_exporter": "python",
   "pygments_lexer": "ipython3",
   "version": "3.5.2"
  }
 },
 "nbformat": 4,
 "nbformat_minor": 0
}
